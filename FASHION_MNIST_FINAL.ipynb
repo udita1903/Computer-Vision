{
  "nbformat": 4,
  "nbformat_minor": 0,
  "metadata": {
    "colab": {
      "provenance": [],
      "gpuType": "T4",
      "authorship_tag": "ABX9TyNS0WoEsaGVqNRAONvPHfXq",
      "include_colab_link": true
    },
    "kernelspec": {
      "name": "python3",
      "display_name": "Python 3"
    },
    "language_info": {
      "name": "python"
    },
    "accelerator": "GPU"
  },
  "cells": [
    {
      "cell_type": "markdown",
      "metadata": {
        "id": "view-in-github",
        "colab_type": "text"
      },
      "source": [
        "<a href=\"https://colab.research.google.com/github/udita1903/Computer-Vision/blob/main/FASHION_MNIST_FINAL.ipynb\" target=\"_parent\"><img src=\"https://colab.research.google.com/assets/colab-badge.svg\" alt=\"Open In Colab\"/></a>"
      ]
    },
    {
      "cell_type": "code",
      "source": [
        "import numpy as np\n",
        "import tensorflow as tf\n",
        "from tensorflow import keras\n",
        "import matplotlib.pyplot as plt\n",
        "%matplotlib inline"
      ],
      "metadata": {
        "id": "T5R7JEtVKWzJ"
      },
      "execution_count": null,
      "outputs": []
    },
    {
      "cell_type": "code",
      "source": [
        "#getting the dataset\n",
        "fashion=tf.keras.datasets.fashion_mnist\n",
        "#get the training and testing data\n",
        "(xtrain,ytrain),(xtest,ytest)=fashion.load_data()\n"
      ],
      "metadata": {
        "id": "6vUIofjYKfCX",
        "colab": {
          "base_uri": "https://localhost:8080/"
        },
        "outputId": "60b4ebda-c51a-4ccb-9ac7-0f55d47c691f"
      },
      "execution_count": null,
      "outputs": [
        {
          "output_type": "stream",
          "name": "stdout",
          "text": [
            "Downloading data from https://storage.googleapis.com/tensorflow/tf-keras-datasets/train-labels-idx1-ubyte.gz\n",
            "29515/29515 [==============================] - 0s 0us/step\n",
            "Downloading data from https://storage.googleapis.com/tensorflow/tf-keras-datasets/train-images-idx3-ubyte.gz\n",
            "26421880/26421880 [==============================] - 0s 0us/step\n",
            "Downloading data from https://storage.googleapis.com/tensorflow/tf-keras-datasets/t10k-labels-idx1-ubyte.gz\n",
            "5148/5148 [==============================] - 0s 0us/step\n",
            "Downloading data from https://storage.googleapis.com/tensorflow/tf-keras-datasets/t10k-images-idx3-ubyte.gz\n",
            "4422102/4422102 [==============================] - 0s 0us/step\n"
          ]
        }
      ]
    },
    {
      "cell_type": "code",
      "source": [
        "#check the data once and see how it is\n",
        "index=77\n",
        "\n",
        "np.set_printoptions(linewidth=350)\n",
        "print(ytrain[index])#prints the label of the data\n",
        "print(xtrain[index])\n",
        "\n",
        "plt.imshow(xtrain[index])"
      ],
      "metadata": {
        "colab": {
          "base_uri": "https://localhost:8080/",
          "height": 923
        },
        "id": "KLGf56zEKsPF",
        "outputId": "240839f3-ffde-40a2-ed24-eee7a14c9f2b"
      },
      "execution_count": null,
      "outputs": [
        {
          "output_type": "stream",
          "name": "stdout",
          "text": [
            "6\n",
            "[[  0   0   0   0   0   0   0   0  68 135  81  29   0   5   0  36  77 155 164  82   4   0   0   0   1   0   1   0]\n",
            " [  0   0   0   0   0   0  99 203 176 186 187 217 215 221 187 255 138 177 189 163 200 111   5   0   2   0   0   0]\n",
            " [  0   0   1   0   0 168 187 167 161 163 157 151 170  33 115 158   0  95 172 152 164 176 144   2   0   2   0   0]\n",
            " [  0   0   0   0  90 185 168 158 168 165 160 162 177 138 171 194 172 188 156 170 160 156 175  97   0   3   0   0]\n",
            " [  2   3   0   0 178 172 170 167 166 164 154 159 163 179 163 157 150 158 160 166 161 160 159 165   8   0   2   0]\n",
            " [  0   3   0 101 192 174 173 165 166 168 156 163 158 159 167 162 161 161 154 163 167 173 159 176  97   0   3   0]\n",
            " [  1   0   0 193 178 184 168 156 171 162 157 163 158 162 170 158 157 159 155 170 159 170 170 170 184   0   0   1]\n",
            " [  1   0  53 189 167 194 180 153 183 164 161 156 166 163 163 159 156 158 161 162 160 170 176 158 181  40   0   1]\n",
            " [  3   0 143 192 172 182 183 151 173 168 164 158 159 160 164 163 160 160 156 160 163 171 185 162 180 152   0   0]\n",
            " [  0   0 179 176 181 181 193 151 164 162 160 161 161 159 162 162 159 160 161 162 160 167 188 153 171 176   3   0]\n",
            " [  0  95 202 171 180 189 202 151 171 163 155 160 160 162 165 163 159 157 167 165 153 176 192 157 177 186  94   0]\n",
            " [  0 187 194 170 189 202 211 142 168 172 154 158 161 163 168 162 161 156 159 171 151 182 222 157 187 172 182   0]\n",
            " [ 61 179 176 163 186 219 238 166 157 179 157 158 165 162 170 162 160 158 166 180 142 192 231 138 185 171 173  27]\n",
            " [155 189 171 167 176 227 186 135 175 178 160 157 163 162 168 164 159 154 167 181 132 229 205 143 185 170 171 126]\n",
            " [  5 160 183 165 175 240 163 114 185 175 161 155 164 164 168 166 156 153 166 186 138 219 209 161 177 163 148  41]\n",
            " [  0   0 123 165 182 246 161 154 176 172 160 153 165 164 167 167 154 153 165 183 142 203 208 184 188 126   5   0]\n",
            " [  0   0   0  27 177 239  98 183 175 172 159 156 166 163 171 163 156 156 168 185 149 173 208 153  31   0   0   0]\n",
            " [  1   0   0   0   0   0  54 211 159 175 158 157 166 163 171 163 157 153 161 187 161 170   8   0   0   0   0   0]\n",
            " [  0   0   1   0   0   0 103 181 165 176 159 157 166 163 170 161 155 150 162 177 171 197   0   0   3   0   0   0]\n",
            " [  0   1   3   0   1   0  96 184 166 177 161 158 168 164 173 162 155 149 172 177 163 199  19   0   2   0   1   0]\n",
            " [  0   0   0   1   1   0  95 175 167 177 156 159 165 162 166 160 152 147 164 184 161 167  20   0   5   0   1   0]\n",
            " [  0   0   0   0   0   0 106 168 171 173 150 165 167 163 163 161 151 148 160 180 161 171  22   0   5   0   0   0]\n",
            " [  0   0   0   0   0   0 115 168 172 172 152 164 166 166 171 163 152 149 163 185 162 172  23   0   5   0   0   0]\n",
            " [  0   0   0   0   1   0 122 168 171 172 153 163 161 162 168 161 151 148 164 181 160 173  26   0   5   0   0   0]\n",
            " [  0   0   0   0   1   0 128 171 167 166 153 171 172 159 168 162 153 154 171 174 159 178  30   0   5   0   0   0]\n",
            " [  0   0   0   0   0   0 102 172 170 163 146 160 167 155 163 154 149 148 167 177 154 175  36   0   5   0   1   0]\n",
            " [  0   0   0   0   4   0  91 182 172 185 185 198 180 156 167 170 171 172 194 190 175 183  40   0   5   0   1   0]\n",
            " [  0   0   0   0   1   0  63 160 149  80  39  81  80  76  86  87  87  77  67  85  81 119  13   0   3   0   0   0]]\n"
          ]
        },
        {
          "output_type": "execute_result",
          "data": {
            "text/plain": [
              "<matplotlib.image.AxesImage at 0x7bc2dfbe5c60>"
            ]
          },
          "metadata": {},
          "execution_count": 3
        },
        {
          "output_type": "display_data",
          "data": {
            "text/plain": [
              "<Figure size 640x480 with 1 Axes>"
            ],
            "image/png": "[encoded data removed]"
          },
          "metadata": {}
        }
      ]
    },
    {
      "cell_type": "code",
      "source": [
        "#normalize the data\n",
        "xtrain=xtrain/255.0\n",
        "xtest=xtest/255.0"
      ],
      "metadata": {
        "id": "OOKTb1HGLJYw"
      },
      "execution_count": null,
      "outputs": []
    },
    {
      "cell_type": "code",
      "source": [
        "class myCallback(tf.keras.callbacks.Callback):\n",
        "  def on_epoch_end(self, epoch, logs={}):\n",
        "\n",
        "\n",
        "    # Check the loss\n",
        "    if(logs.get('accuracy') >98):\n",
        "\n",
        "      # Stop if threshold is met\n",
        "      print(\"\\n Training stopped beacuse there is no significant increase in accuracy after 98 percent\")\n",
        "      self.model.stop_training = True\n",
        "\n",
        "# Instantiate class\n",
        "callbacks = myCallback()"
      ],
      "metadata": {
        "id": "S_PkxU2fGfsM"
      },
      "execution_count": null,
      "outputs": []
    },
    {
      "cell_type": "code",
      "source": [
        "#building the model and adding convolutional layers\n",
        "model=tf.keras.Sequential([tf.keras.layers.Conv2D(32,(3,3),activation='relu',input_shape=(28,28,1)),\n",
        "                           tf.keras.layers.MaxPooling2D(2,2),\n",
        "\n",
        "                           tf.keras.layers.Conv2D(32,(3,3),activation='relu'),\n",
        "                           tf.keras.layers.MaxPooling2D(2,2),\n",
        "\n",
        "                           tf.keras.layers.Flatten(),\n",
        "                           tf.keras.layers.Dense(128,activation=tf.nn.relu),\n",
        "                           tf.keras.layers.Dense(10,activation=tf.nn.softmax)])\n",
        "model.compile(optimizer='adam',loss='sparse_categorical_crossentropy',metrics=['accuracy'])\n",
        "model.fit(xtrain,ytrain,epochs=20,callbacks=[callbacks])"
      ],
      "metadata": {
        "colab": {
          "base_uri": "https://localhost:8080/"
        },
        "id": "LvNhUSisLjRi",
        "outputId": "aa651b59-e4c3-4d00-e476-bdee032018f2"
      },
      "execution_count": null,
      "outputs": [
        {
          "output_type": "stream",
          "name": "stdout",
          "text": [
            "Epoch 1/20\n",
            "1875/1875 [==============================] - 8s 4ms/step - loss: 0.4605 - accuracy: 0.8341\n",
            "Epoch 2/20\n",
            "1875/1875 [==============================] - 6s 3ms/step - loss: 0.3170 - accuracy: 0.8843\n",
            "Epoch 3/20\n",
            "1875/1875 [==============================] - 7s 4ms/step - loss: 0.2743 - accuracy: 0.8983\n",
            "Epoch 4/20\n",
            "1875/1875 [==============================] - 6s 3ms/step - loss: 0.2464 - accuracy: 0.9074\n",
            "Epoch 5/20\n",
            "1875/1875 [==============================] - 9s 5ms/step - loss: 0.2212 - accuracy: 0.9171\n",
            "Epoch 6/20\n",
            "1875/1875 [==============================] - 7s 4ms/step - loss: 0.2008 - accuracy: 0.9244\n",
            "Epoch 7/20\n",
            "1875/1875 [==============================] - 6s 3ms/step - loss: 0.1836 - accuracy: 0.9310\n",
            "Epoch 8/20\n",
            "1875/1875 [==============================] - 7s 4ms/step - loss: 0.1675 - accuracy: 0.9367\n",
            "Epoch 9/20\n",
            "1875/1875 [==============================] - 6s 3ms/step - loss: 0.1508 - accuracy: 0.9425\n",
            "Epoch 10/20\n",
            "1875/1875 [==============================] - 7s 4ms/step - loss: 0.1337 - accuracy: 0.9493\n",
            "Epoch 11/20\n",
            "1875/1875 [==============================] - 6s 3ms/step - loss: 0.1221 - accuracy: 0.9544\n",
            "Epoch 12/20\n",
            "1875/1875 [==============================] - 7s 4ms/step - loss: 0.1097 - accuracy: 0.9585\n",
            "Epoch 13/20\n",
            "1875/1875 [==============================] - 7s 3ms/step - loss: 0.1008 - accuracy: 0.9615\n",
            "Epoch 14/20\n",
            "1875/1875 [==============================] - 7s 4ms/step - loss: 0.0892 - accuracy: 0.9661\n",
            "Epoch 15/20\n",
            "1875/1875 [==============================] - 7s 4ms/step - loss: 0.0812 - accuracy: 0.9697\n",
            "Epoch 16/20\n",
            "1875/1875 [==============================] - 6s 3ms/step - loss: 0.0751 - accuracy: 0.9718\n",
            "Epoch 17/20\n",
            "1875/1875 [==============================] - 7s 4ms/step - loss: 0.0675 - accuracy: 0.9739\n",
            "Epoch 18/20\n",
            "1875/1875 [==============================] - 6s 3ms/step - loss: 0.0623 - accuracy: 0.9771\n",
            "Epoch 19/20\n",
            "1875/1875 [==============================] - 7s 4ms/step - loss: 0.0547 - accuracy: 0.9797\n",
            "Epoch 20/20\n",
            "1875/1875 [==============================] - 6s 3ms/step - loss: 0.0519 - accuracy: 0.9805\n"
          ]
        },
        {
          "output_type": "execute_result",
          "data": {
            "text/plain": [
              "<keras.src.callbacks.History at 0x7bc223bb18d0>"
            ]
          },
          "metadata": {},
          "execution_count": 27
        }
      ]
    },
    {
      "cell_type": "code",
      "source": [
        "model.summary()"
      ],
      "metadata": {
        "colab": {
          "base_uri": "https://localhost:8080/"
        },
        "id": "bHRu0q-ZMMJ2",
        "outputId": "09ad0d77-d71c-49c4-a2fe-e345fc91ca78"
      },
      "execution_count": null,
      "outputs": [
        {
          "output_type": "stream",
          "name": "stdout",
          "text": [
            "Model: \"sequential_5\"\n",
            "_________________________________________________________________\n",
            " Layer (type)                Output Shape              Param #   \n",
            "=================================================================\n",
            " conv2d_10 (Conv2D)          (None, 26, 26, 32)        320       \n",
            "                                                                 \n",
            " max_pooling2d_10 (MaxPooli  (None, 13, 13, 32)        0         \n",
            " ng2D)                                                           \n",
            "                                                                 \n",
            " conv2d_11 (Conv2D)          (None, 11, 11, 32)        9248      \n",
            "                                                                 \n",
            " max_pooling2d_11 (MaxPooli  (None, 5, 5, 32)          0         \n",
            " ng2D)                                                           \n",
            "                                                                 \n",
            " flatten_5 (Flatten)         (None, 800)               0         \n",
            "                                                                 \n",
            " dense_10 (Dense)            (None, 128)               102528    \n",
            "                                                                 \n",
            " dense_11 (Dense)            (None, 10)                1290      \n",
            "                                                                 \n",
            "=================================================================\n",
            "Total params: 113386 (442.91 KB)\n",
            "Trainable params: 113386 (442.91 KB)\n",
            "Non-trainable params: 0 (0.00 Byte)\n",
            "_________________________________________________________________\n"
          ]
        }
      ]
    },
    {
      "cell_type": "code",
      "source": [
        "model.evaluate(xtest,ytest)"
      ],
      "metadata": {
        "colab": {
          "base_uri": "https://localhost:8080/"
        },
        "id": "6bxLyAOMNABR",
        "outputId": "71c1adb4-8019-48fa-882f-ad270090af00"
      },
      "execution_count": null,
      "outputs": [
        {
          "output_type": "stream",
          "name": "stdout",
          "text": [
            "313/313 [==============================] - 1s 2ms/step - loss: 0.4188 - accuracy: 0.9114\n"
          ]
        },
        {
          "output_type": "execute_result",
          "data": {
            "text/plain": [
              "[0.4187593162059784, 0.9114000201225281]"
            ]
          },
          "metadata": {},
          "execution_count": 22
        }
      ]
    },
    {
      "cell_type": "code",
      "source": [
        "\n",
        "\n",
        "print(ytrain[:50])"
      ],
      "metadata": {
        "colab": {
          "base_uri": "https://localhost:8080/"
        },
        "id": "x59AFmdgSRnA",
        "outputId": "da42fd34-20f7-42f4-825b-fe5c2173d511"
      },
      "execution_count": null,
      "outputs": [
        {
          "output_type": "stream",
          "name": "stdout",
          "text": [
            "[9 0 0 3 0 2 7 2 5 5 0 9 5 5 7 9 1 0 6 4 3 1 4 8 4 3 0 2 4 4 5 3 6 6 0 8 5 2 1 6 6 7 9 5 9 2 7 3 0 3]\n"
          ]
        }
      ]
    },
    {
      "cell_type": "code",
      "source": [
        "index=np.where(np.array(ytrain[:50]==6))[0]\n",
        "print(index)\n",
        "#the zero at the end gives just the array otherwise there is some weird extra deets that you dont need"
      ],
      "metadata": {
        "colab": {
          "base_uri": "https://localhost:8080/"
        },
        "id": "nx8X14g6Sc0o",
        "outputId": "9eb294fd-4463-4754-89a6-6ce077e5c0e3"
      },
      "execution_count": null,
      "outputs": [
        {
          "output_type": "stream",
          "name": "stdout",
          "text": [
            "[18 32 33 39 40]\n"
          ]
        }
      ]
    },
    {
      "cell_type": "code",
      "source": [
        "from tensorflow.keras import models\n",
        "#store layer outputs in a seprate variable and store the activation values in a seprate variable\n",
        "layer_output=[layer.output for layer in model.layers]\n",
        "activation_model=tf.keras.models.Model(inputs=model.input,outputs=layer_output)\n",
        "\n",
        "\n",
        "f,ax=plt.subplots(3,4)\n",
        "first=18\n",
        "second=32\n",
        "third=33\n",
        "conv=1\n",
        "\n",
        "#vizualizing only convolutinal layers and here are 4 of them\n",
        "for x in range(0,4):\n",
        "  f1=activation_model.predict(xtest[first].reshape(1,28,28,1))[x]\n",
        "  ax[0,x].imshow(f1[0,:,:,conv],cmap='inferno')\n",
        "  ax[0,x].grid(False)\n",
        "  f2=activation_model.predict(xtest[second].reshape(1,28,28,1))[x]\n",
        "  ax[1,x].imshow(f2[0,:,:,conv],cmap='inferno')\n",
        "  ax[0,x].grid(False)\n",
        "  f3=activation_model.predict(xtest[third].reshape(1,28,28,1))[x]\n",
        "  ax[2,x].imshow(f3[0,:,:,conv],cmap='inferno')\n",
        "  ax[0,x].grid(False)"
      ],
      "metadata": {
        "id": "zkMZtrLoStcb",
        "colab": {
          "base_uri": "https://localhost:8080/",
          "height": 629
        },
        "outputId": "616d434c-2f24-432a-ca3c-f20b7499eea0"
      },
      "execution_count": null,
      "outputs": [
        {
          "output_type": "stream",
          "name": "stdout",
          "text": [
            "1/1 [==============================] - 0s 72ms/step\n",
            "1/1 [==============================] - 0s 17ms/step\n",
            "1/1 [==============================] - 0s 18ms/step\n",
            "1/1 [==============================] - 0s 17ms/step\n",
            "1/1 [==============================] - 0s 19ms/step\n",
            "1/1 [==============================] - 0s 26ms/step\n",
            "1/1 [==============================] - 0s 18ms/step\n",
            "1/1 [==============================] - 0s 22ms/step\n",
            "1/1 [==============================] - 0s 19ms/step\n",
            "1/1 [==============================] - 0s 18ms/step\n",
            "1/1 [==============================] - 0s 17ms/step\n",
            "1/1 [==============================] - 0s 18ms/step\n"
          ]
        },
        {
          "output_type": "display_data",
          "data": {
            "text/plain": [
              "<Figure size 640x480 with 12 Axes>"
            ],
            "image/png": "[encoded data removed]"
          },
          "metadata": {}
        }
      ]
    },
    {
      "cell_type": "code",
      "source": [],
      "metadata": {
        "id": "EeCCTS5KUsHF"
      },
      "execution_count": null,
      "outputs": []
    }
  ]
}